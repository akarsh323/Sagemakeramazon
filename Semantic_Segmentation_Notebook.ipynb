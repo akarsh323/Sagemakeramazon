{
  "cells": [
    {
      "cell_type": "markdown",
      "metadata": {
        "id": "uHwfuUyt6sAi"
      },
      "source": [
        "# Download the Data"
      ]
    },
    {
      "cell_type": "code",
      "execution_count": 1,
      "metadata": {
        "colab": {
          "base_uri": "https://localhost:8080/",
          "height": 322
        },
        "id": "OTA6D4756sAo",
        "outputId": "e7b40f85-9a56-498a-9b6b-90513d646b14"
      },
      "outputs": [
        {
          "output_type": "stream",
          "name": "stdout",
          "text": [
            "Requirement already satisfied: tqdm in /usr/local/lib/python3.10/dist-packages (4.66.5)\n",
            "Requirement already satisfied: pillow in /usr/local/lib/python3.10/dist-packages (9.4.0)\n",
            "Collecting pillow\n",
            "  Downloading pillow-10.4.0-cp310-cp310-manylinux_2_28_x86_64.whl.metadata (9.2 kB)\n",
            "Downloading pillow-10.4.0-cp310-cp310-manylinux_2_28_x86_64.whl (4.5 MB)\n",
            "\u001b[2K   \u001b[90m━━━━━━━━━━━━━━━━━━━━━━━━━━━━━━━━━━━━━━━━\u001b[0m \u001b[32m4.5/4.5 MB\u001b[0m \u001b[31m26.1 MB/s\u001b[0m eta \u001b[36m0:00:00\u001b[0m\n",
            "\u001b[?25hInstalling collected packages: pillow\n",
            "  Attempting uninstall: pillow\n",
            "    Found existing installation: Pillow 9.4.0\n",
            "    Uninstalling Pillow-9.4.0:\n",
            "      Successfully uninstalled Pillow-9.4.0\n",
            "Successfully installed pillow-10.4.0\n"
          ]
        },
        {
          "output_type": "display_data",
          "data": {
            "application/vnd.colab-display-data+json": {
              "pip_warning": {
                "packages": [
                  "PIL"
                ]
              },
              "id": "da0babae8301494489b5739e5178d3cf"
            }
          },
          "metadata": {}
        }
      ],
      "source": [
        "!pip3 install tqdm\n",
        "!pip3 install pillow --upgrade"
      ]
    },
    {
      "cell_type": "code",
      "execution_count": null,
      "metadata": {
        "id": "EbTWlmcH6sAs"
      },
      "outputs": [],
      "source": [
        "%matplotlib inline\n",
        "\n",
        "import os\n",
        "import io\n",
        "import tarfile\n",
        "import urllib\n",
        "import shutil\n",
        "import json\n",
        "import random\n",
        "import numpy as np\n",
        "import boto3\n",
        "import sagemaker\n",
        "\n",
        "from tqdm import tqdm\n",
        "from sagemaker.amazon.amazon_estimator import get_image_uri\n",
        "from matplotlib import pyplot as plt\n",
        "from xml.etree import ElementTree as ET\n",
        "from PIL import Image, ImageDraw, ImageFont\n",
        "\n",
        "urls = ['http://www.robots.ox.ac.uk/~vgg/data/pets/data/images.tar.gz',\n",
        "        'http://www.robots.ox.ac.uk/~vgg/data/pets/data/annotations.tar.gz']\n",
        "\n",
        "def download_and_extract(data_dir, download_dir):\n",
        "    for url in urls:\n",
        "        target_file = url.split('/')[-1]\n",
        "        if target_file not in os.listdir(download_dir):\n",
        "            print('Downloading', url)\n",
        "            urllib.request.urlretrieve(url, os.path.join(download_dir, target_file))\n",
        "            tf = tarfile.open(url.split('/')[-1])\n",
        "            tf.extractall(data_dir)\n",
        "        else:\n",
        "            print('Already downloaded', url)\n",
        "\n",
        "if not os.path.isdir('data'):\n",
        "    os.mkdir('data')\n",
        "\n",
        "download_and_extract('data', '.')"
      ]
    },
    {
      "cell_type": "markdown",
      "metadata": {
        "id": "t2ZmIypF6sAu"
      },
      "source": [
        "# Visualize Data"
      ]
    },
    {
      "cell_type": "code",
      "execution_count": null,
      "metadata": {
        "id": "m8tudsXZ6sAv"
      },
      "outputs": [],
      "source": [
        "trimaps_dir = 'data/annotations/trimaps/'\n",
        "\n",
        "maps = [x for x in os.listdir(trimaps_dir) if x[-3:] == 'png']\n",
        "print(len(maps))"
      ]
    },
    {
      "cell_type": "code",
      "execution_count": null,
      "metadata": {
        "id": "Wqpz6vnN6sAw"
      },
      "outputs": [],
      "source": [
        "image_dir = 'data/images/'\n",
        "\n",
        "images = [x for x in os.listdir(image_dir) if x[-3:] == 'jpg']\n",
        "print(len(images))"
      ]
    },
    {
      "cell_type": "code",
      "execution_count": null,
      "metadata": {
        "id": "q9-grib86sAx"
      },
      "outputs": [],
      "source": [
        "images[0]"
      ]
    },
    {
      "cell_type": "code",
      "execution_count": null,
      "metadata": {
        "id": "JHlUqbe36sAx"
      },
      "outputs": [],
      "source": [
        "plt.figure(figsize=(12, 12))\n",
        "\n",
        "for i in range(0, 4):\n",
        "    index = random.randint(0, len(images) - 1)\n",
        "    image_name = images[index]\n",
        "    map_name = images[index].split('.')[0] + '.png'\n",
        "\n",
        "    plt.subplot(4, 2, 1 + i*2)\n",
        "    plt.xticks([])\n",
        "    plt.yticks([])\n",
        "    plt.imshow(plt.imread(os.path.join(trimaps_dir, map_name)))\n",
        "    plt.subplot(4, 2, 2 + i*2)\n",
        "    plt.xticks([])\n",
        "    plt.yticks([])\n",
        "    plt.imshow(plt.imread(os.path.join(image_dir, image_name)))\n",
        "plt.show()"
      ]
    },
    {
      "cell_type": "code",
      "execution_count": null,
      "metadata": {
        "id": "CP44MqjK6sAy"
      },
      "outputs": [],
      "source": [
        "img = Image.open(os.path.join(trimaps_dir, maps[0]))\n",
        "print(np.unique(img))"
      ]
    },
    {
      "cell_type": "markdown",
      "metadata": {
        "id": "JiwxRqCP6sAy"
      },
      "source": [
        "# SageMaker Setup"
      ]
    },
    {
      "cell_type": "code",
      "execution_count": null,
      "metadata": {
        "id": "7SbgIr8K6sAz"
      },
      "outputs": [],
      "source": [
        "role=sagemaker.excution.role()\n",
        "bucket_name='petsdata'\n",
        "training_image=get_image_uri(boto3.Session().region_name, 'semantic-segmentation')\n",
        "print(training_image)"
      ]
    },
    {
      "cell_type": "code",
      "execution_count": null,
      "metadata": {
        "id": "br81R1HJ6sA0"
      },
      "outputs": [],
      "source": [
        "folders = ['train', 'train_annotation', 'validation', 'validation_annotation']\n",
        "\n",
        "for folder in folders:\n",
        "    if os.path.isdir(folder):\n",
        "        shutil.rmtree(folder)\n",
        "    os.mkdir(folder)"
      ]
    },
    {
      "cell_type": "markdown",
      "metadata": {
        "id": "M_Ckq8Ug6sA0"
      },
      "source": [
        "# Preparing Data for SageMaker"
      ]
    },
    {
      "cell_type": "code",
      "execution_count": null,
      "metadata": {
        "id": "ED8W0-aU6sA0"
      },
      "outputs": [],
      "source": [
        "def get_map_file(image):\n",
        "    map_file = image.split('.')[0] + '.png'\n",
        "    assert map_file in maps\n",
        "    return map_file\n",
        "\n",
        "for image in tqdm(images):\n",
        "    target_set = 'train' if random.randint(0, 99) < 75 else 'validation'\n",
        "\n",
        "    image_file_path = os.path.join('data/images/', image)\n",
        "    image_target_path = os.path.join(target_set, image)\n",
        "\n",
        "    map_file_path = os.path.join(trimaps_dir, get_map_file(image))\n",
        "    map_target_path = os.path.join(target_set + '_annotation', get_map_file(image))\n",
        "\n",
        "    shutil.copy(image_file_path, image_target_path)\n",
        "    shutil.copy(map_file_path, map_target_path)"
      ]
    },
    {
      "cell_type": "code",
      "execution_count": null,
      "metadata": {
        "id": "1kK75Aib6sA1"
      },
      "outputs": [],
      "source": [
        "train_images = os.listdir('train')\n",
        "train_annots = os.listdir('train_annotation')"
      ]
    },
    {
      "cell_type": "code",
      "execution_count": null,
      "metadata": {
        "id": "3noHA8NP6sA2"
      },
      "outputs": [],
      "source": [
        "print(len(train_annots), len(train_images))"
      ]
    },
    {
      "cell_type": "markdown",
      "metadata": {
        "id": "KnlOESgz6sA2"
      },
      "source": [
        "# Uploading Data to S3"
      ]
    },
    {
      "cell_type": "code",
      "execution_count": null,
      "metadata": {
        "id": "fu9wBKTi6sA2"
      },
      "outputs": [],
      "source": [
        "sess =sagemaker.session()\n",
        "print('starting upload')\n",
        "s3_train_path = sess.upload_data(path='train', key_prefix='train')\n",
        "s3_train_annotation_path = sess.upload_data(path='train_annotation', key_prefix='train_annotation)\n",
        "s3_validation_path = sess.upload_data(path='validation', key_prefix='validation')\n",
        "s3_validation_annotation_path = sess.upload_data(path='validation_annotation', key_prefix='validation_annotation')\n",
        "print('done')"
      ]
    },
    {
      "cell_type": "code",
      "execution_count": null,
      "metadata": {
        "id": "3otZtxfD6sA3"
      },
      "outputs": [],
      "source": [
        "\n",
        "S3_validation_annotation_path"
      ]
    },
    {
      "cell_type": "markdown",
      "metadata": {
        "id": "dh_OsiYr6sA3"
      },
      "source": [
        "# SageMaker Estimator"
      ]
    },
    {
      "cell_type": "code",
      "execution_count": null,
      "metadata": {
        "id": "KJ2qpyLX6sA3"
      },
      "outputs": [],
      "source": [
        "model=sagemaker.estimator.Estimator(training_image=training_image,\n",
        "                                   role=role\n",
        "                                    train_instance.count=1,\n",
        "                                    train_instance_type='ml.p3.2xlarge',\n",
        "                                    train_volume_size=100,\n",
        "                                    train_max_run=360000,\n",
        "                                    input_model=file,\n",
        "                                    output_path='s3_output_location',\n",
        "                                    sagemaker_session=sess)\n"
      ]
    },
    {
      "cell_type": "markdown",
      "metadata": {
        "id": "7nLpMKTa6sA3"
      },
      "source": [
        "# Hyperparameters"
      ]
    },
    {
      "cell_type": "code",
      "execution_count": null,
      "metadata": {
        "id": "jwIBOwF56sA3"
      },
      "outputs": [],
      "source": [
        "model.set_hyperparameters(backbone='resnet-50',\n",
        "                         algorithm='fcn',\n",
        "                         use_pretrained_model=True,\n",
        "                         crop_size=256,\n",
        "                         num_classes=4,\n",
        "                         epochs=100,\n",
        "                         learning_rate=0.001,\n",
        "                         optimizer='rmsprop',\n",
        "                         lr_scheduler='poly',\n",
        "                         mini_batch_size=1,\n",
        "                         validation_mini_batch_size=16,\n",
        "                         num_training_samples=len(train_images))"
      ]
    },
    {
      "cell_type": "markdown",
      "metadata": {
        "id": "AsTy03X-6sA4"
      },
      "source": [
        "# Data Channels"
      ]
    },
    {
      "cell_type": "code",
      "execution_count": null,
      "metadata": {
        "id": "NDkOoqxG6sA4"
      },
      "outputs": [],
      "source": [
        "train_data=sagemaker.session.s3_input(s3_train_path, distribution='FullyReplicated',content_type='image/jpeg',s3_data_type='S3Prefix')\n",
        "validation_data=sagemaker.session.s3_input(s3_validation_annotation_path, distribution='FullyReplicated',content_type='image/jpeg',s3_data_type='S3Prefix')\n",
        "train_annotation_data=sagemaker.session.s3_input(s3_train_annotation_path, distribution='FullyReplicated',content_type='image/jpeg',s3_data_type='S3Prefix')\n",
        "validation_annotation_data=sagemaker.session.s3_input(s3_validation_annotation_path, distribution='FullyReplicated',content_type='image/jpeg',s3_data_type='S3Prefix')"
      ]
    },
    {
      "cell_type": "code",
      "execution_count": null,
      "metadata": {
        "id": "DgXbBz156sA4"
      },
      "outputs": [],
      "source": [
        "data_channels={'train':train_data,'validation':validation_data,'train_annotation':train_annotation_data,'validation_annotation':validation_annotation_data}"
      ]
    },
    {
      "cell_type": "code",
      "source": [
        "data_channels"
      ],
      "metadata": {
        "id": "AfuPpvOSPRst"
      },
      "execution_count": null,
      "outputs": []
    },
    {
      "cell_type": "markdown",
      "metadata": {
        "id": "CsTvQmtr6sA4"
      },
      "source": [
        "# Model Training"
      ]
    },
    {
      "cell_type": "code",
      "execution_count": null,
      "metadata": {
        "id": "XYrf-19H6sA4"
      },
      "outputs": [],
      "source": [
        "model.fit(inputs=data_channels,logs=True)"
      ]
    },
    {
      "cell_type": "markdown",
      "metadata": {
        "id": "4mLPb0WF6sA5"
      },
      "source": [
        "# Deploy Model"
      ]
    },
    {
      "cell_type": "code",
      "execution_count": null,
      "metadata": {
        "id": "zAWnHL9I6sA5"
      },
      "outputs": [],
      "source": [
        "deployed_model=model.deploy(initial_instance_count=1,instance_type='ml.m4.xlarge')\n",
        "print('\\nModel deployed!')"
      ]
    },
    {
      "cell_type": "markdown",
      "metadata": {
        "id": "EsRXKOfs6sA5"
      },
      "source": [
        "# Predictions"
      ]
    },
    {
      "cell_type": "code",
      "execution_count": null,
      "metadata": {
        "id": "uL9QuUTJ6sA5"
      },
      "outputs": [],
      "source": [
        "image_dir = 'validation'\n",
        "images = [x for x in os.listdir(image_dir) if x[-3:] == 'jpg']\n",
        "print(len(images))"
      ]
    },
    {
      "cell_type": "code",
      "execution_count": null,
      "metadata": {
        "id": "8GOmx40z6sA5"
      },
      "outputs": [],
      "source": [
        "deployed_model.content_type = 'image/jpeg'\n",
        "deployed_model.accept = 'image/png'"
      ]
    },
    {
      "cell_type": "code",
      "execution_count": null,
      "metadata": {
        "id": "UbZQY18J6sA6"
      },
      "outputs": [],
      "source": [
        "index = 2\n",
        "\n",
        "image_path = os.path.join(image_dir, images[index])\n",
        "# image_path = 'dog_cat.jfif'\n",
        "\n",
        "with open(image_path, 'rb') as f:\n",
        "    b = bytearray(f.read())\n",
        "\n",
        "results = deployed_model.predict(b)"
      ]
    },
    {
      "cell_type": "code",
      "execution_count": null,
      "metadata": {
        "id": "pppAYVva6sA6"
      },
      "outputs": [],
      "source": [
        "mask = np.array(Image.open(io.BytesIO(results)))"
      ]
    },
    {
      "cell_type": "code",
      "execution_count": null,
      "metadata": {
        "id": "pukW2-Ox6sA6"
      },
      "outputs": [],
      "source": [
        "plt.imshow(plt.imread(image_path));"
      ]
    },
    {
      "cell_type": "code",
      "execution_count": null,
      "metadata": {
        "id": "W0Q5SNK36sA6"
      },
      "outputs": [],
      "source": [
        "plt.imshow(mask);"
      ]
    },
    {
      "cell_type": "markdown",
      "metadata": {
        "id": "tejW5Wvs6sA7"
      },
      "source": [
        "Don't forget!! You need to delete endpoint or else you will continue to accrue cost!"
      ]
    },
    {
      "cell_type": "code",
      "execution_count": null,
      "metadata": {
        "id": "XozW0y1T6sA7"
      },
      "outputs": [],
      "source": [
        "sagemaker.Session().delete_endpoint(deployed_model.endpoint)"
      ]
    },
    {
      "cell_type": "code",
      "execution_count": null,
      "metadata": {
        "id": "61dgr1Uf6sBC"
      },
      "outputs": [],
      "source": []
    }
  ],
  "metadata": {
    "kernelspec": {
      "display_name": "Python 3",
      "language": "python",
      "name": "python3"
    },
    "language_info": {
      "codemirror_mode": {
        "name": "ipython",
        "version": 3
      },
      "file_extension": ".py",
      "mimetype": "text/x-python",
      "name": "python",
      "nbconvert_exporter": "python",
      "pygments_lexer": "ipython3",
      "version": "3.6.8"
    },
    "colab": {
      "provenance": []
    }
  },
  "nbformat": 4,
  "nbformat_minor": 0
}