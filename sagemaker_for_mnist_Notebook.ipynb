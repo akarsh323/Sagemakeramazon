{
  "cells": [
    {
      "cell_type": "code",
      "source": [
        "import os\n",
        "import urllib.request\n",
        "import pandas as pd\n",
        "import numpy as np\n",
        "from sklearn.datasets import fetch_openml\n",
        "\n",
        "# Download MNIST dataset\n",
        "def download_mnist(data_dir):\n",
        "    mnist = fetch_openml('mnist_784', version=1)\n",
        "    images = mnist.data.values.reshape(-1, 28, 28)\n",
        "    labels = mnist.target.astype(int)\n",
        "\n",
        "    # Create directories if they don't exist\n",
        "    if not os.path.isdir(data_dir):\n",
        "        os.mkdir(data_dir)\n",
        "\n",
        "    # Save images and labels to files\n",
        "    for i in range(len(images)):\n",
        "        image = images[i]\n",
        "        label = labels[i]\n",
        "        image_path = os.path.join(data_dir, f'{i}.png')\n",
        "        label_path = os.path.join(data_dir, f'{i}.txt')\n",
        "\n",
        "        # Save image\n",
        "        img = Image.fromarray(image)\n",
        "        img.save(image_path)\n",
        "\n",
        "        # Save label\n",
        "        with open(label_path, 'w') as f:\n",
        "            f.write(str(label))\n",
        "\n",
        "download_mnist('mnist_data')\n"
      ],
      "metadata": {
        "id": "gGr9odMteEYi"
      },
      "execution_count": null,
      "outputs": []
    },
    {
      "cell_type": "code",
      "source": [
        "import sagemaker\n",
        "from sagemaker.image_uris import retrieve\n",
        "\n",
        "# Initialize SageMaker session and role\n",
        "sagemaker_session = sagemaker.Session()\n",
        "role = sagemaker.get_execution_role()\n",
        "\n",
        "# Retrieve the container image URI for training\n",
        "training_image = retrieve('image-classification', sagemaker_session.boto_session.region_name)\n"
      ],
      "metadata": {
        "id": "abdyjSereHip"
      },
      "execution_count": null,
      "outputs": []
    },
    {
      "cell_type": "code",
      "source": [
        "import shutil\n",
        "\n",
        "# Prepare directories for training and validation\n",
        "def prepare_directories():\n",
        "    folders = ['train', 'validation']\n",
        "    for folder in folders:\n",
        "        if os.path.isdir(folder):\n",
        "            shutil.rmtree(folder)\n",
        "        os.mkdir(folder)\n",
        "\n",
        "prepare_directories()\n",
        "\n",
        "# Split data into training and validation\n",
        "import random\n",
        "from PIL import Image\n",
        "\n",
        "def split_data(data_dir, train_ratio=0.8):\n",
        "    files = [f for f in os.listdir(data_dir) if f.endswith('.png')]\n",
        "    random.shuffle(files)\n",
        "    split_index = int(len(files) * train_ratio)\n",
        "\n",
        "    for i, file in enumerate(files):\n",
        "        source_path = os.path.join(data_dir, file)\n",
        "        target_dir = 'train' if i < split_index else 'validation'\n",
        "\n",
        "        shutil.copy(source_path, os.path.join(target_dir, file))\n",
        "\n",
        "split_data('mnist_data')\n"
      ],
      "metadata": {
        "id": "w-I_EivDeMas"
      },
      "execution_count": null,
      "outputs": []
    },
    {
      "cell_type": "code",
      "source": [
        "from sagemaker import get_execution_role\n",
        "from sagemaker.estimator import Estimator\n",
        "\n",
        "# Define the SageMaker Estimator\n",
        "model = Estimator(\n",
        "    image_uri=training_image,\n",
        "    role=role,\n",
        "    instance_count=1,\n",
        "    instance_type='ml.p3.2xlarge',\n",
        "    volume_size=50,\n",
        "    max_run=3600,\n",
        "    output_path='s3://YOUR_BUCKET_NAME/mnist_output',\n",
        "    sagemaker_session=sagemaker_session\n",
        ")\n",
        "\n",
        "# Set hyperparameters\n",
        "model.set_hyperparameters(\n",
        "    num_classes=10,\n",
        "    epochs=10,\n",
        "    batch_size=32,\n",
        "    learning_rate=0.001\n",
        ")\n",
        "\n",
        "# Specify data channels\n",
        "train_data = sagemaker.inputs.TrainingInput(\n",
        "    s3_data='s3://YOUR_BUCKET_NAME/train',\n",
        "    content_type='image/png'\n",
        ")\n",
        "validation_data = sagemaker.inputs.TrainingInput(\n",
        "    s3_data='s3://YOUR_BUCKET_NAME/validation',\n",
        "    content_type='image/png'\n",
        ")\n",
        "\n",
        "# Train the model\n",
        "model.fit({'train': train_data, 'validation': validation_data})\n"
      ],
      "metadata": {
        "id": "V_MqB77-eQIQ"
      },
      "execution_count": null,
      "outputs": []
    },
    {
      "cell_type": "code",
      "source": [
        "# Deploy the model\n",
        "predictor = model.deploy(\n",
        "    initial_instance_count=1,\n",
        "    instance_type='ml.m4.xlarge'\n",
        ")\n"
      ],
      "metadata": {
        "id": "1PeyFFcceT-u"
      },
      "execution_count": null,
      "outputs": []
    },
    {
      "cell_type": "code",
      "source": [
        "import matplotlib.pyplot as plt\n",
        "\n",
        "# Function to make predictions\n",
        "def predict_image(image_path):\n",
        "    with open(image_path, 'rb') as f:\n",
        "        response = predictor.predict(f.read())\n",
        "    return response\n",
        "\n",
        "# Test with an image\n",
        "image_path = 'validation/0.png'\n",
        "prediction = predict_image(image_path)\n",
        "print(f'Prediction: {prediction}')\n",
        "\n",
        "# Display the image\n",
        "img = Image.open(image_path)\n",
        "plt.imshow(img, cmap='gray')\n",
        "plt.title(f'Prediction: {prediction}')\n",
        "plt.show()\n"
      ],
      "metadata": {
        "id": "WQF1XzV_eXrG"
      },
      "execution_count": null,
      "outputs": []
    },
    {
      "cell_type": "code",
      "source": [
        "# 7. Clean Up\n",
        "# Delete the endpoint to avoid incurring costs\n",
        "predictor.delete_endpoint()\n",
        "\n",
        "print('Endpoint deleted successfully.')"
      ],
      "metadata": {
        "id": "3Ymq_QgCedBO"
      },
      "execution_count": null,
      "outputs": []
    }
  ],
  "metadata": {
    "kernelspec": {
      "display_name": "Python 3",
      "language": "python",
      "name": "python3"
    },
    "language_info": {
      "codemirror_mode": {
        "name": "ipython",
        "version": 3
      },
      "file_extension": ".py",
      "mimetype": "text/x-python",
      "name": "python",
      "nbconvert_exporter": "python",
      "pygments_lexer": "ipython3",
      "version": "3.6.8"
    },
    "colab": {
      "provenance": []
    }
  },
  "nbformat": 4,
  "nbformat_minor": 0
}